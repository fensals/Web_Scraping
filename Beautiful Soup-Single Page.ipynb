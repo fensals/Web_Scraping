{
 "cells": [
  {
   "cell_type": "code",
   "execution_count": 152,
   "metadata": {},
   "outputs": [],
   "source": [
    "#Importing all necessary libraries\n",
    "import requests\n",
    "from bs4 import BeautifulSoup\n",
    "import csv\n",
    "import pandas as pd\n",
    "import numpy as np\n",
    "from time import sleep\n",
    "from random import randint\n",
    "URL = 'https://www.yellowpages.com/search?search_terms=plumber&geo_location_terms=AL'\n",
    "page = requests.get(URL)\n",
    "soup = BeautifulSoup(page.content, 'html.parser')"
   ]
  },
  {
   "cell_type": "code",
   "execution_count": 153,
   "metadata": {},
   "outputs": [],
   "source": [
    "#copying all content of the html page into 'results'\n",
    "results = soup.find(class_= \"search-results organic\")"
   ]
  },
  {
   "cell_type": "code",
   "execution_count": 154,
   "metadata": {},
   "outputs": [],
   "source": [
    "company = results.find_all('div', class_='result')"
   ]
  },
  {
   "cell_type": "code",
   "execution_count": 155,
   "metadata": {},
   "outputs": [],
   "source": [
    "#Initiating data storage by Creating empty lists to contain the data\n",
    "Business = []\n",
    "Phone_number = []\n",
    "Address = []\n",
    "Age_of_business = []\n"
   ]
  },
  {
   "cell_type": "code",
   "execution_count": 156,
   "metadata": {},
   "outputs": [],
   "source": [
    "#loop scrapping each element and appending it to the empty lists \n",
    "for comp in company:\n",
    "    business_name = comp.find('a', class_='business-name')\n",
    "    phone = comp.find('div', class_='phones phone primary')\n",
    "    address = comp.find('div', class_='locality')\n",
    "    years_in_business = comp.find('div', class_= 'number')\n",
    "    if None in (business_name, phone, address, years_in_business): #skips rows with missing values\n",
    "        continue\n",
    "    Business.append(business_name.text)\n",
    "    Phone_number.append(phone.text)\n",
    "    Address.append(address.text)\n",
    "    Age_of_business.append(years_in_business.text) "
   ]
  },
  {
   "cell_type": "code",
   "execution_count": 157,
   "metadata": {},
   "outputs": [],
   "source": [
    "#Combining the lists into a dataframe named YellowPages\n",
    "YellowPages = pd.DataFrame({\n",
    "'Business': Business,\n",
    "'Phone_number': Phone_number,\n",
    "'Address': Address,\n",
    "'Age_of_business': Age_of_business,\n",
    "})"
   ]
  },
  {
   "cell_type": "code",
   "execution_count": 161,
   "metadata": {},
   "outputs": [
    {
     "data": {
      "text/html": [
       "<div>\n",
       "<style scoped>\n",
       "    .dataframe tbody tr th:only-of-type {\n",
       "        vertical-align: middle;\n",
       "    }\n",
       "\n",
       "    .dataframe tbody tr th {\n",
       "        vertical-align: top;\n",
       "    }\n",
       "\n",
       "    .dataframe thead th {\n",
       "        text-align: right;\n",
       "    }\n",
       "</style>\n",
       "<table border=\"1\" class=\"dataframe\">\n",
       "  <thead>\n",
       "    <tr style=\"text-align: right;\">\n",
       "      <th></th>\n",
       "      <th>Business</th>\n",
       "      <th>Phone_number</th>\n",
       "      <th>Address</th>\n",
       "      <th>Age_of_business</th>\n",
       "    </tr>\n",
       "  </thead>\n",
       "  <tbody>\n",
       "    <tr>\n",
       "      <th>0</th>\n",
       "      <td>White Plumbing &amp; Electrical Co</td>\n",
       "      <td>(334) 792-6026</td>\n",
       "      <td>Dothan, AL 36301</td>\n",
       "      <td>15</td>\n",
       "    </tr>\n",
       "    <tr>\n",
       "      <th>1</th>\n",
       "      <td>Scott Carr Plumbing LLC</td>\n",
       "      <td>(256) 299-9520</td>\n",
       "      <td>Talladega, AL 35160</td>\n",
       "      <td>4</td>\n",
       "    </tr>\n",
       "    <tr>\n",
       "      <th>2</th>\n",
       "      <td>K &amp; M Mechanical</td>\n",
       "      <td>(334) 277-8179</td>\n",
       "      <td>Montgomery, AL 36109</td>\n",
       "      <td>5</td>\n",
       "    </tr>\n",
       "    <tr>\n",
       "      <th>3</th>\n",
       "      <td>Diversified Plumbing Inc</td>\n",
       "      <td>(256) 830-9014</td>\n",
       "      <td>Madison, AL 35757</td>\n",
       "      <td>22</td>\n",
       "    </tr>\n",
       "    <tr>\n",
       "      <th>4</th>\n",
       "      <td>Aircon Mechanical LLC</td>\n",
       "      <td>(334) 246-5548</td>\n",
       "      <td>Auburn, AL 36830</td>\n",
       "      <td>92</td>\n",
       "    </tr>\n",
       "  </tbody>\n",
       "</table>\n",
       "</div>"
      ],
      "text/plain": [
       "                         Business    Phone_number               Address  \\\n",
       "0  White Plumbing & Electrical Co  (334) 792-6026      Dothan, AL 36301   \n",
       "1         Scott Carr Plumbing LLC  (256) 299-9520   Talladega, AL 35160   \n",
       "2                K & M Mechanical  (334) 277-8179  Montgomery, AL 36109   \n",
       "3        Diversified Plumbing Inc  (256) 830-9014     Madison, AL 35757   \n",
       "4           Aircon Mechanical LLC  (334) 246-5548      Auburn, AL 36830   \n",
       "\n",
       "  Age_of_business  \n",
       "0              15  \n",
       "1               4  \n",
       "2               5  \n",
       "3              22  \n",
       "4              92  "
      ]
     },
     "execution_count": 161,
     "metadata": {},
     "output_type": "execute_result"
    }
   ],
   "source": [
    "YellowPages.head()"
   ]
  },
  {
   "cell_type": "code",
   "execution_count": null,
   "metadata": {},
   "outputs": [],
   "source": []
  },
  {
   "cell_type": "code",
   "execution_count": null,
   "metadata": {},
   "outputs": [],
   "source": []
  },
  {
   "cell_type": "code",
   "execution_count": null,
   "metadata": {},
   "outputs": [],
   "source": []
  }
 ],
 "metadata": {
  "kernelspec": {
   "display_name": "Python 3",
   "language": "python",
   "name": "python3"
  },
  "language_info": {
   "codemirror_mode": {
    "name": "ipython",
    "version": 3
   },
   "file_extension": ".py",
   "mimetype": "text/x-python",
   "name": "python",
   "nbconvert_exporter": "python",
   "pygments_lexer": "ipython3",
   "version": "3.7.6"
  }
 },
 "nbformat": 4,
 "nbformat_minor": 4
}
